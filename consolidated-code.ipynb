{
 "cells": [
  {
   "cell_type": "markdown",
   "metadata": {},
   "source": [
    "# ENGLISH POS AND DEP"
   ]
  },
  {
   "cell_type": "code",
   "execution_count": 1,
   "metadata": {},
   "outputs": [],
   "source": [
    "import spacy\n",
    "nlp = spacy.load('en')\n",
    "filename=\"/home/apoorva/Documents/bleu-score/data/test/eng\"\n",
    "lines = [line.rstrip('\\n') for line in open(filename)]\n",
    "\n",
    "file_out=open(\"/home/apoorva/Documents/bleu-score/data/test/eng_pos\",\"w\")\n",
    "file_out1=open(\"/home/apoorva/Documents/bleu-score/data/test/eng_dep\",\"w\")\n",
    "for each_line in lines:\n",
    "    doc = nlp(each_line)\n",
    "    #print(each_line)\n",
    "    for token in doc:\n",
    "        file_out.write(str(token.tag_))\n",
    "        file_out.write(\" \")\n",
    "        file_out1.write(str(token.dep_))\n",
    "        file_out1.write(\" \")\n",
    "    file_out.write(\"\\n\")\n",
    "    file_out1.write(\"\\n\")\n",
    "file_out.close()\n",
    "file_out1.close()\n"
   ]
  },
  {
   "cell_type": "markdown",
   "metadata": {},
   "source": [
    "# REFERNCE POS AND DEP"
   ]
  },
  {
   "cell_type": "code",
   "execution_count": 2,
   "metadata": {},
   "outputs": [],
   "source": [
    "nlp1 = spacy.load('models_Hi/model-final')\n",
    "\n",
    "file1=\"/home/apoorva/Documents/bleu-score/data/test/ref\"\n",
    "file2=\"/home/apoorva/Documents/bleu-score/data/test/ref_pos\"\n",
    "file3=\"/home/apoorva/Documents/bleu-score/data/test/ref_dep\"\n",
    "lines = [line.rstrip('\\n') for line in open(file1)]\n",
    "\n",
    "file_out=open(file2,\"w\")\n",
    "file_out1=open(file3,\"w\")\n",
    "for each_line in lines:\n",
    "    doc = nlp1(each_line)\n",
    "    #print(each_line)\n",
    "    for token in doc:\n",
    "        file_out.write(str(token.tag_))\n",
    "        file_out.write(\" \")\n",
    "        file_out1.write(str(token.dep_))\n",
    "        file_out1.write(\" \")\n",
    "    file_out.write(\"\\n\")\n",
    "    file_out1.write(\"\\n\")\n",
    "file_out.close()\n",
    "file_out1.close()"
   ]
  },
  {
   "cell_type": "markdown",
   "metadata": {},
   "source": [
    "# TRANSLATED POS DEP"
   ]
  },
  {
   "cell_type": "code",
   "execution_count": 3,
   "metadata": {},
   "outputs": [],
   "source": [
    "\n",
    "\n",
    "file4=\"/home/apoorva/Documents/bleu-score/data/test/translated\"\n",
    "file5=\"/home/apoorva/Documents/bleu-score/data/test/translated_pos\"\n",
    "file6=\"/home/apoorva/Documents/bleu-score/data/test/translated_dep\"\n",
    "lines = [line.rstrip('\\n') for line in open(file4)]\n",
    "\n",
    "file_out=open(file5,\"w\")\n",
    "file_out1=open(file6,\"w\")\n",
    "for each_line in lines:\n",
    "    doc = nlp1(each_line)\n",
    "    #print(each_line)\n",
    "    for token in doc:\n",
    "        file_out.write(str(token.tag_))\n",
    "        file_out.write(\" \")\n",
    "        file_out1.write(str(token.dep_))\n",
    "        file_out1.write(\" \")\n",
    "    file_out.write(\"\\n\")\n",
    "    file_out1.write(\"\\n\")\n",
    "file_out.close()\n",
    "file_out1.close()"
   ]
  },
  {
   "cell_type": "markdown",
   "metadata": {},
   "source": [
    "#  bleu bleu"
   ]
  },
  {
   "cell_type": "code",
   "execution_count": 4,
   "metadata": {},
   "outputs": [
    {
     "name": "stdout",
     "output_type": "stream",
     "text": [
      "BLEU_uncased =  13.21\n",
      "BLEU_cased =  13.21\n",
      "BLEU_uncased =  44.59\n",
      "BLEU_cased =  44.59\n",
      "BLEU_uncased =  43.12\n",
      "BLEU_cased =  43.12\n"
     ]
    },
    {
     "name": "stderr",
     "output_type": "stream",
     "text": [
      "/home/apoorva/.local/lib/python3.6/site-packages/tensorflow/python/framework/dtypes.py:516: FutureWarning: Passing (type, 1) or '1type' as a synonym of type is deprecated; in a future version of numpy, it will be understood as (type, (1,)) / '(1,)type'.\n",
      "  _np_qint8 = np.dtype([(\"qint8\", np.int8, 1)])\n",
      "/home/apoorva/.local/lib/python3.6/site-packages/tensorflow/python/framework/dtypes.py:517: FutureWarning: Passing (type, 1) or '1type' as a synonym of type is deprecated; in a future version of numpy, it will be understood as (type, (1,)) / '(1,)type'.\n",
      "  _np_quint8 = np.dtype([(\"quint8\", np.uint8, 1)])\n",
      "/home/apoorva/.local/lib/python3.6/site-packages/tensorflow/python/framework/dtypes.py:518: FutureWarning: Passing (type, 1) or '1type' as a synonym of type is deprecated; in a future version of numpy, it will be understood as (type, (1,)) / '(1,)type'.\n",
      "  _np_qint16 = np.dtype([(\"qint16\", np.int16, 1)])\n",
      "/home/apoorva/.local/lib/python3.6/site-packages/tensorflow/python/framework/dtypes.py:519: FutureWarning: Passing (type, 1) or '1type' as a synonym of type is deprecated; in a future version of numpy, it will be understood as (type, (1,)) / '(1,)type'.\n",
      "  _np_quint16 = np.dtype([(\"quint16\", np.uint16, 1)])\n",
      "/home/apoorva/.local/lib/python3.6/site-packages/tensorflow/python/framework/dtypes.py:520: FutureWarning: Passing (type, 1) or '1type' as a synonym of type is deprecated; in a future version of numpy, it will be understood as (type, (1,)) / '(1,)type'.\n",
      "  _np_qint32 = np.dtype([(\"qint32\", np.int32, 1)])\n",
      "/home/apoorva/.local/lib/python3.6/site-packages/tensorflow/python/framework/dtypes.py:525: FutureWarning: Passing (type, 1) or '1type' as a synonym of type is deprecated; in a future version of numpy, it will be understood as (type, (1,)) / '(1,)type'.\n",
      "  np_resource = np.dtype([(\"resource\", np.ubyte, 1)])\n",
      "/home/apoorva/.local/lib/python3.6/site-packages/tensorboard/compat/tensorflow_stub/dtypes.py:541: FutureWarning: Passing (type, 1) or '1type' as a synonym of type is deprecated; in a future version of numpy, it will be understood as (type, (1,)) / '(1,)type'.\n",
      "  _np_qint8 = np.dtype([(\"qint8\", np.int8, 1)])\n",
      "/home/apoorva/.local/lib/python3.6/site-packages/tensorboard/compat/tensorflow_stub/dtypes.py:542: FutureWarning: Passing (type, 1) or '1type' as a synonym of type is deprecated; in a future version of numpy, it will be understood as (type, (1,)) / '(1,)type'.\n",
      "  _np_quint8 = np.dtype([(\"quint8\", np.uint8, 1)])\n",
      "/home/apoorva/.local/lib/python3.6/site-packages/tensorboard/compat/tensorflow_stub/dtypes.py:543: FutureWarning: Passing (type, 1) or '1type' as a synonym of type is deprecated; in a future version of numpy, it will be understood as (type, (1,)) / '(1,)type'.\n",
      "  _np_qint16 = np.dtype([(\"qint16\", np.int16, 1)])\n",
      "/home/apoorva/.local/lib/python3.6/site-packages/tensorboard/compat/tensorflow_stub/dtypes.py:544: FutureWarning: Passing (type, 1) or '1type' as a synonym of type is deprecated; in a future version of numpy, it will be understood as (type, (1,)) / '(1,)type'.\n",
      "  _np_quint16 = np.dtype([(\"quint16\", np.uint16, 1)])\n",
      "/home/apoorva/.local/lib/python3.6/site-packages/tensorboard/compat/tensorflow_stub/dtypes.py:545: FutureWarning: Passing (type, 1) or '1type' as a synonym of type is deprecated; in a future version of numpy, it will be understood as (type, (1,)) / '(1,)type'.\n",
      "  _np_qint32 = np.dtype([(\"qint32\", np.int32, 1)])\n",
      "/home/apoorva/.local/lib/python3.6/site-packages/tensorboard/compat/tensorflow_stub/dtypes.py:550: FutureWarning: Passing (type, 1) or '1type' as a synonym of type is deprecated; in a future version of numpy, it will be understood as (type, (1,)) / '(1,)type'.\n",
      "  np_resource = np.dtype([(\"resource\", np.ubyte, 1)])\n",
      "WARNING: Logging before flag parsing goes to stderr.\n",
      "W0909 18:47:28.067321 140436595726144 deprecation_wrapper.py:119] From /home/apoorva/anaconda3/envs/STD/bin/t2t-bleu:17: The name tf.logging.set_verbosity is deprecated. Please use tf.compat.v1.logging.set_verbosity instead.\n",
      "\n",
      "W0909 18:47:28.067465 140436595726144 deprecation_wrapper.py:119] From /home/apoorva/anaconda3/envs/STD/bin/t2t-bleu:17: The name tf.logging.INFO is deprecated. Please use tf.compat.v1.logging.INFO instead.\n",
      "\n",
      "W0909 18:47:28.067533 140436595726144 deprecation_wrapper.py:119] From /home/apoorva/anaconda3/envs/STD/bin/t2t-bleu:18: The name tf.app.run is deprecated. Please use tf.compat.v1.app.run instead.\n",
      "\n",
      "W0909 18:47:28.067820 140436595726144 deprecation_wrapper.py:119] From /home/apoorva/anaconda3/envs/STD/lib/python3.6/site-packages/tensor2tensor/utils/bleu_hook.py:205: The name tf.gfile.Open is deprecated. Please use tf.io.gfile.GFile instead.\n",
      "\n",
      "/home/apoorva/.local/lib/python3.6/site-packages/tensorflow/python/framework/dtypes.py:516: FutureWarning: Passing (type, 1) or '1type' as a synonym of type is deprecated; in a future version of numpy, it will be understood as (type, (1,)) / '(1,)type'.\n",
      "  _np_qint8 = np.dtype([(\"qint8\", np.int8, 1)])\n",
      "/home/apoorva/.local/lib/python3.6/site-packages/tensorflow/python/framework/dtypes.py:517: FutureWarning: Passing (type, 1) or '1type' as a synonym of type is deprecated; in a future version of numpy, it will be understood as (type, (1,)) / '(1,)type'.\n",
      "  _np_quint8 = np.dtype([(\"quint8\", np.uint8, 1)])\n",
      "/home/apoorva/.local/lib/python3.6/site-packages/tensorflow/python/framework/dtypes.py:518: FutureWarning: Passing (type, 1) or '1type' as a synonym of type is deprecated; in a future version of numpy, it will be understood as (type, (1,)) / '(1,)type'.\n",
      "  _np_qint16 = np.dtype([(\"qint16\", np.int16, 1)])\n",
      "/home/apoorva/.local/lib/python3.6/site-packages/tensorflow/python/framework/dtypes.py:519: FutureWarning: Passing (type, 1) or '1type' as a synonym of type is deprecated; in a future version of numpy, it will be understood as (type, (1,)) / '(1,)type'.\n",
      "  _np_quint16 = np.dtype([(\"quint16\", np.uint16, 1)])\n",
      "/home/apoorva/.local/lib/python3.6/site-packages/tensorflow/python/framework/dtypes.py:520: FutureWarning: Passing (type, 1) or '1type' as a synonym of type is deprecated; in a future version of numpy, it will be understood as (type, (1,)) / '(1,)type'.\n",
      "  _np_qint32 = np.dtype([(\"qint32\", np.int32, 1)])\n",
      "/home/apoorva/.local/lib/python3.6/site-packages/tensorflow/python/framework/dtypes.py:525: FutureWarning: Passing (type, 1) or '1type' as a synonym of type is deprecated; in a future version of numpy, it will be understood as (type, (1,)) / '(1,)type'.\n",
      "  np_resource = np.dtype([(\"resource\", np.ubyte, 1)])\n",
      "/home/apoorva/.local/lib/python3.6/site-packages/tensorboard/compat/tensorflow_stub/dtypes.py:541: FutureWarning: Passing (type, 1) or '1type' as a synonym of type is deprecated; in a future version of numpy, it will be understood as (type, (1,)) / '(1,)type'.\n",
      "  _np_qint8 = np.dtype([(\"qint8\", np.int8, 1)])\n",
      "/home/apoorva/.local/lib/python3.6/site-packages/tensorboard/compat/tensorflow_stub/dtypes.py:542: FutureWarning: Passing (type, 1) or '1type' as a synonym of type is deprecated; in a future version of numpy, it will be understood as (type, (1,)) / '(1,)type'.\n",
      "  _np_quint8 = np.dtype([(\"quint8\", np.uint8, 1)])\n",
      "/home/apoorva/.local/lib/python3.6/site-packages/tensorboard/compat/tensorflow_stub/dtypes.py:543: FutureWarning: Passing (type, 1) or '1type' as a synonym of type is deprecated; in a future version of numpy, it will be understood as (type, (1,)) / '(1,)type'.\n",
      "  _np_qint16 = np.dtype([(\"qint16\", np.int16, 1)])\n",
      "/home/apoorva/.local/lib/python3.6/site-packages/tensorboard/compat/tensorflow_stub/dtypes.py:544: FutureWarning: Passing (type, 1) or '1type' as a synonym of type is deprecated; in a future version of numpy, it will be understood as (type, (1,)) / '(1,)type'.\n",
      "  _np_quint16 = np.dtype([(\"quint16\", np.uint16, 1)])\n",
      "/home/apoorva/.local/lib/python3.6/site-packages/tensorboard/compat/tensorflow_stub/dtypes.py:545: FutureWarning: Passing (type, 1) or '1type' as a synonym of type is deprecated; in a future version of numpy, it will be understood as (type, (1,)) / '(1,)type'.\n",
      "  _np_qint32 = np.dtype([(\"qint32\", np.int32, 1)])\n",
      "/home/apoorva/.local/lib/python3.6/site-packages/tensorboard/compat/tensorflow_stub/dtypes.py:550: FutureWarning: Passing (type, 1) or '1type' as a synonym of type is deprecated; in a future version of numpy, it will be understood as (type, (1,)) / '(1,)type'.\n",
      "  np_resource = np.dtype([(\"resource\", np.ubyte, 1)])\n",
      "WARNING: Logging before flag parsing goes to stderr.\n",
      "W0909 18:47:30.961171 140031340468032 deprecation_wrapper.py:119] From /home/apoorva/anaconda3/envs/STD/bin/t2t-bleu:17: The name tf.logging.set_verbosity is deprecated. Please use tf.compat.v1.logging.set_verbosity instead.\n",
      "\n",
      "W0909 18:47:30.961315 140031340468032 deprecation_wrapper.py:119] From /home/apoorva/anaconda3/envs/STD/bin/t2t-bleu:17: The name tf.logging.INFO is deprecated. Please use tf.compat.v1.logging.INFO instead.\n",
      "\n",
      "W0909 18:47:30.961382 140031340468032 deprecation_wrapper.py:119] From /home/apoorva/anaconda3/envs/STD/bin/t2t-bleu:18: The name tf.app.run is deprecated. Please use tf.compat.v1.app.run instead.\n",
      "\n",
      "W0909 18:47:30.961666 140031340468032 deprecation_wrapper.py:119] From /home/apoorva/anaconda3/envs/STD/lib/python3.6/site-packages/tensor2tensor/utils/bleu_hook.py:205: The name tf.gfile.Open is deprecated. Please use tf.io.gfile.GFile instead.\n",
      "\n",
      "/home/apoorva/.local/lib/python3.6/site-packages/tensorflow/python/framework/dtypes.py:516: FutureWarning: Passing (type, 1) or '1type' as a synonym of type is deprecated; in a future version of numpy, it will be understood as (type, (1,)) / '(1,)type'.\n",
      "  _np_qint8 = np.dtype([(\"qint8\", np.int8, 1)])\n",
      "/home/apoorva/.local/lib/python3.6/site-packages/tensorflow/python/framework/dtypes.py:517: FutureWarning: Passing (type, 1) or '1type' as a synonym of type is deprecated; in a future version of numpy, it will be understood as (type, (1,)) / '(1,)type'.\n",
      "  _np_quint8 = np.dtype([(\"quint8\", np.uint8, 1)])\n",
      "/home/apoorva/.local/lib/python3.6/site-packages/tensorflow/python/framework/dtypes.py:518: FutureWarning: Passing (type, 1) or '1type' as a synonym of type is deprecated; in a future version of numpy, it will be understood as (type, (1,)) / '(1,)type'.\n",
      "  _np_qint16 = np.dtype([(\"qint16\", np.int16, 1)])\n",
      "/home/apoorva/.local/lib/python3.6/site-packages/tensorflow/python/framework/dtypes.py:519: FutureWarning: Passing (type, 1) or '1type' as a synonym of type is deprecated; in a future version of numpy, it will be understood as (type, (1,)) / '(1,)type'.\n",
      "  _np_quint16 = np.dtype([(\"quint16\", np.uint16, 1)])\n",
      "/home/apoorva/.local/lib/python3.6/site-packages/tensorflow/python/framework/dtypes.py:520: FutureWarning: Passing (type, 1) or '1type' as a synonym of type is deprecated; in a future version of numpy, it will be understood as (type, (1,)) / '(1,)type'.\n",
      "  _np_qint32 = np.dtype([(\"qint32\", np.int32, 1)])\n",
      "/home/apoorva/.local/lib/python3.6/site-packages/tensorflow/python/framework/dtypes.py:525: FutureWarning: Passing (type, 1) or '1type' as a synonym of type is deprecated; in a future version of numpy, it will be understood as (type, (1,)) / '(1,)type'.\n",
      "  np_resource = np.dtype([(\"resource\", np.ubyte, 1)])\n",
      "/home/apoorva/.local/lib/python3.6/site-packages/tensorboard/compat/tensorflow_stub/dtypes.py:541: FutureWarning: Passing (type, 1) or '1type' as a synonym of type is deprecated; in a future version of numpy, it will be understood as (type, (1,)) / '(1,)type'.\n",
      "  _np_qint8 = np.dtype([(\"qint8\", np.int8, 1)])\n",
      "/home/apoorva/.local/lib/python3.6/site-packages/tensorboard/compat/tensorflow_stub/dtypes.py:542: FutureWarning: Passing (type, 1) or '1type' as a synonym of type is deprecated; in a future version of numpy, it will be understood as (type, (1,)) / '(1,)type'.\n",
      "  _np_quint8 = np.dtype([(\"quint8\", np.uint8, 1)])\n",
      "/home/apoorva/.local/lib/python3.6/site-packages/tensorboard/compat/tensorflow_stub/dtypes.py:543: FutureWarning: Passing (type, 1) or '1type' as a synonym of type is deprecated; in a future version of numpy, it will be understood as (type, (1,)) / '(1,)type'.\n",
      "  _np_qint16 = np.dtype([(\"qint16\", np.int16, 1)])\n",
      "/home/apoorva/.local/lib/python3.6/site-packages/tensorboard/compat/tensorflow_stub/dtypes.py:544: FutureWarning: Passing (type, 1) or '1type' as a synonym of type is deprecated; in a future version of numpy, it will be understood as (type, (1,)) / '(1,)type'.\n",
      "  _np_quint16 = np.dtype([(\"quint16\", np.uint16, 1)])\n",
      "/home/apoorva/.local/lib/python3.6/site-packages/tensorboard/compat/tensorflow_stub/dtypes.py:545: FutureWarning: Passing (type, 1) or '1type' as a synonym of type is deprecated; in a future version of numpy, it will be understood as (type, (1,)) / '(1,)type'.\n",
      "  _np_qint32 = np.dtype([(\"qint32\", np.int32, 1)])\n",
      "/home/apoorva/.local/lib/python3.6/site-packages/tensorboard/compat/tensorflow_stub/dtypes.py:550: FutureWarning: Passing (type, 1) or '1type' as a synonym of type is deprecated; in a future version of numpy, it will be understood as (type, (1,)) / '(1,)type'.\n",
      "  np_resource = np.dtype([(\"resource\", np.ubyte, 1)])\n",
      "WARNING: Logging before flag parsing goes to stderr.\n",
      "W0909 18:47:33.684178 140407816484672 deprecation_wrapper.py:119] From /home/apoorva/anaconda3/envs/STD/bin/t2t-bleu:17: The name tf.logging.set_verbosity is deprecated. Please use tf.compat.v1.logging.set_verbosity instead.\n",
      "\n",
      "W0909 18:47:33.684319 140407816484672 deprecation_wrapper.py:119] From /home/apoorva/anaconda3/envs/STD/bin/t2t-bleu:17: The name tf.logging.INFO is deprecated. Please use tf.compat.v1.logging.INFO instead.\n",
      "\n",
      "W0909 18:47:33.684382 140407816484672 deprecation_wrapper.py:119] From /home/apoorva/anaconda3/envs/STD/bin/t2t-bleu:18: The name tf.app.run is deprecated. Please use tf.compat.v1.app.run instead.\n",
      "\n",
      "W0909 18:47:33.684664 140407816484672 deprecation_wrapper.py:119] From /home/apoorva/anaconda3/envs/STD/lib/python3.6/site-packages/tensor2tensor/utils/bleu_hook.py:205: The name tf.gfile.Open is deprecated. Please use tf.io.gfile.GFile instead.\n",
      "\n"
     ]
    }
   ],
   "source": [
    "%%bash\n",
    "t2t-bleu --translation=/home/apoorva/Documents/bleu-score/data/test/translated --reference=/home/apoorva/Documents/bleu-score/data/test/ref\n",
    "t2t-bleu --translation=/home/apoorva/Documents/bleu-score/data/test/translated_pos --reference=/home/apoorva/Documents/bleu-score/data/test/ref_pos\n",
    "t2t-bleu --translation=/home/apoorva/Documents/bleu-score/data/test/translated_dep --reference=/home/apoorva/Documents/bleu-score/data/test/ref_dep"
   ]
  },
  {
   "cell_type": "markdown",
   "metadata": {},
   "source": [
    "# text bleu"
   ]
  },
  {
   "cell_type": "code",
   "execution_count": 5,
   "metadata": {},
   "outputs": [
    {
     "name": "stdout",
     "output_type": "stream",
     "text": [
      "b'BLEU_uncased =  59.46\\nBLEU_cased =  59.46\\n'\n",
      "59\n",
      "b'BLEU_uncased =  29.85\\nBLEU_cased =  29.85\\n'\n",
      "29\n",
      "b'BLEU_uncased =  12.36\\nBLEU_cased =  12.36\\n'\n",
      "12\n",
      "b'BLEU_uncased =  24.88\\nBLEU_cased =  24.88\\n'\n",
      "24\n",
      "b'BLEU_uncased =  19.00\\nBLEU_cased =  19.00\\n'\n",
      "19\n",
      "b'BLEU_uncased =   9.65\\nBLEU_cased =   9.65\\n'\n",
      "9\n",
      "b'BLEU_uncased =  19.00\\nBLEU_cased =  19.00\\n'\n",
      "19\n",
      "b'BLEU_uncased =  45.18\\nBLEU_cased =  45.18\\n'\n",
      "45\n",
      "b'BLEU_uncased =  35.83\\nBLEU_cased =  35.83\\n'\n",
      "35\n",
      "b'BLEU_uncased =  19.00\\nBLEU_cased =  19.00\\n'\n",
      "19\n"
     ]
    }
   ],
   "source": [
    "\n",
    "reference_english = \"/home/apoorva/Documents/bleu-score/data/test/eng\"\n",
    "translated_file = \"/home/apoorva/Documents/bleu-score/data/test/translated\"\n",
    "reference_file = \"/home/apoorva/Documents/bleu-score/data/test/ref\"\n",
    "temp_t=\"/home/apoorva/Documents/bleu-score/data/test/temp_t.txt\"\n",
    "temp_r=\"/home/apoorva/Documents/bleu-score/data/test/temp_r.txt\"#do these files exist on os?? NO they dont exist\n",
    "output_file = \"/home/apoorva/Documents/bleu-score/data/test/output_errors.txt\"\n",
    "path = \"y.txt\"\n",
    "    \n",
    "import itertools\n",
    "import os,re\n",
    "\n",
    "with open(translated_file, \"r\") as f1, open(reference_file, \"r\") as f2, open(output_file, \"a+\") as f5, open(reference_english, \"r\") as f6:\n",
    "    for lineno, (line1, line2, line3) in enumerate(zip(f1, f2, f6), 1):\n",
    "        f3 = open(temp_t,\"w\")\n",
    "        f4 = open(temp_r , \"w\")\n",
    "        f3.write(line1) # created here\n",
    "        f4.write(line2)\n",
    "        f3.close()\n",
    "        f4.close()\n",
    "#         print(line1)\n",
    "#         print(line2)\n",
    "        import subprocess as sub\n",
    "        p = sub.Popen(['t2t-bleu' ,'--translation=/home/apoorva/Documents/bleu-score/data/test/temp_t.txt', '--reference=/home/apoorva/Documents/bleu-score/data/test/temp_r.txt', '--worker_gpu=1'],stdout=sub.PIPE,stderr=sub.PIPE)\n",
    "        output, errors = p.communicate()\n",
    "        print (output)\n",
    "        output = str(output)\n",
    "        nums = [int(s) for s in re.findall(r'\\b\\d+\\b', output)]\n",
    "        print(nums[0])\n",
    "        nums = nums[0]\n",
    "#        f5 = open(output_file, \"a+\")\n",
    "        if(nums < 50 ):\n",
    "            f5.write(str(nums)+'\\n'+line2+'\\n'+line3+'\\n')\n",
    "#        f5.close()"
   ]
  },
  {
   "cell_type": "markdown",
   "metadata": {},
   "source": [
    "# pos bleu"
   ]
  },
  {
   "cell_type": "code",
   "execution_count": 6,
   "metadata": {},
   "outputs": [
    {
     "name": "stdout",
     "output_type": "stream",
     "text": [
      "b'BLEU_uncased = 100.00\\nBLEU_cased = 100.00\\n'\n",
      "100\n",
      "b'BLEU_uncased =  59.69\\nBLEU_cased =  59.69\\n'\n",
      "59\n",
      "b'BLEU_uncased =  38.06\\nBLEU_cased =  38.06\\n'\n",
      "38\n",
      "b'BLEU_uncased =  27.53\\nBLEU_cased =  27.53\\n'\n",
      "27\n",
      "b'BLEU_uncased =  35.36\\nBLEU_cased =  35.36\\n'\n",
      "35\n",
      "b'BLEU_uncased =  24.88\\nBLEU_cased =  24.88\\n'\n",
      "24\n",
      "b'BLEU_uncased = 100.00\\nBLEU_cased = 100.00\\n'\n",
      "100\n",
      "b'BLEU_uncased =  31.95\\nBLEU_cased =  31.95\\n'\n",
      "31\n",
      "b'BLEU_uncased =  32.37\\nBLEU_cased =  32.37\\n'\n",
      "32\n",
      "b'BLEU_uncased =  35.36\\nBLEU_cased =  35.36\\n'\n",
      "35\n"
     ]
    }
   ],
   "source": [
    "\n",
    "reference_english = \"/home/apoorva/Documents/bleu-score/data/test/eng\"\n",
    "translated_file = \"/home/apoorva/Documents/bleu-score/data/test/translated_pos\"\n",
    "reference_file = \"/home/apoorva/Documents/bleu-score/data/test/ref_pos\"\n",
    "temp_t=\"/home/apoorva/Documents/bleu-score/data/test/temp_t_pos.txt\"\n",
    "temp_r=\"/home/apoorva/Documents/bleu-score/data/test/temp_r_pos.txt\"#do these files exist on os?? NO they dont exist\n",
    "output_file = \"/home/apoorva/Documents/bleu-score/data/test/output_errors_pos.txt\"\n",
    "path = \"y.txt\"\n",
    "    \n",
    "import itertools\n",
    "import os,re\n",
    "\n",
    "with open(translated_file, \"r\") as f1, open(reference_file, \"r\") as f2, open(output_file, \"a+\") as f5, open(reference_english, \"r\") as f6:\n",
    "    for lineno, (line1, line2, line3) in enumerate(zip(f1, f2, f6), 1):\n",
    "        f3 = open(temp_t,\"w\")\n",
    "        f4 = open(temp_r , \"w\")\n",
    "        f3.write(line1) # created here\n",
    "        f4.write(line2)\n",
    "        f3.close()\n",
    "        f4.close()\n",
    "#         print(line1)\n",
    "#         print(line2)\n",
    "        import subprocess as sub\n",
    "        p = sub.Popen(['t2t-bleu' ,'--translation=/home/apoorva/Documents/bleu-score/data/test/temp_t_pos.txt', '--reference=/home/apoorva/Documents/bleu-score/data/test/temp_r_pos.txt', '--worker_gpu=1'],stdout=sub.PIPE,stderr=sub.PIPE)\n",
    "        output, errors = p.communicate()\n",
    "        print (output)\n",
    "        output = str(output)\n",
    "        nums = [int(s) for s in re.findall(r'\\b\\d+\\b', output)]\n",
    "        print(nums[0])\n",
    "        nums = nums[0]\n",
    "#        f5 = open(output_file, \"a+\")\n",
    "        if(nums < 50 ):\n",
    "            f5.write(str(nums)+'\\n'+line2+'\\n'+line3+'\\n')\n",
    "#        f5.close()  \n",
    "            "
   ]
  },
  {
   "cell_type": "markdown",
   "metadata": {},
   "source": [
    "#  dep bleu"
   ]
  },
  {
   "cell_type": "code",
   "execution_count": 7,
   "metadata": {},
   "outputs": [
    {
     "name": "stdout",
     "output_type": "stream",
     "text": [
      "b'BLEU_uncased = 100.00\\nBLEU_cased = 100.00\\n'\n",
      "100\n",
      "b'BLEU_uncased =  43.17\\nBLEU_cased =  43.17\\n'\n",
      "43\n",
      "b'BLEU_uncased =  24.60\\nBLEU_cased =  24.60\\n'\n",
      "24\n",
      "b'BLEU_uncased =  27.53\\nBLEU_cased =  27.53\\n'\n",
      "27\n",
      "b'BLEU_uncased =  31.95\\nBLEU_cased =  31.95\\n'\n",
      "31\n",
      "b'BLEU_uncased =   8.97\\nBLEU_cased =   8.97\\n'\n",
      "8\n",
      "b'BLEU_uncased = 100.00\\nBLEU_cased = 100.00\\n'\n",
      "100\n",
      "b'BLEU_uncased =  21.44\\nBLEU_cased =  21.44\\n'\n",
      "21\n",
      "b'BLEU_uncased =  32.37\\nBLEU_cased =  32.37\\n'\n",
      "32\n",
      "b'BLEU_uncased =  35.36\\nBLEU_cased =  35.36\\n'\n",
      "35\n"
     ]
    }
   ],
   "source": [
    "\n",
    "reference_english = \"/home/apoorva/Documents/bleu-score/data/test/eng\"\n",
    "translated_file = \"/home/apoorva/Documents/bleu-score/data/test/translated_dep\"\n",
    "reference_file = \"/home/apoorva/Documents/bleu-score/data/test/ref_dep\"\n",
    "temp_t=\"/home/apoorva/Documents/bleu-score/data/test/temp_t_dep.txt\"\n",
    "temp_r=\"/home/apoorva/Documents/bleu-score/data/test/temp_r_dep.txt\"#do these files exist on os?? NO they dont exist\n",
    "output_file = \"/home/apoorva/Documents/bleu-score/data/test/output_errors_dep.txt\"\n",
    "path = \"y.txt\"\n",
    "    \n",
    "import itertools\n",
    "import os,re\n",
    "\n",
    "with open(translated_file, \"r\") as f1, open(reference_file, \"r\") as f2, open(output_file, \"a+\") as f5, open(reference_english, \"r\") as f6:\n",
    "    for lineno, (line1, line2, line3) in enumerate(zip(f1, f2, f6), 1):\n",
    "        f3 = open(temp_t,\"w\")\n",
    "        f4 = open(temp_r , \"w\")\n",
    "        f3.write(line1) # created here\n",
    "        f4.write(line2)\n",
    "        f3.close()\n",
    "        f4.close()\n",
    "#         print(line1)\n",
    "#         print(line2)\n",
    "        import subprocess as sub\n",
    "        p = sub.Popen(['t2t-bleu' ,'--translation=/home/apoorva/Documents/bleu-score/data/test/temp_t_dep.txt', '--reference=/home/apoorva/Documents/bleu-score/data/test/temp_r_dep.txt', '--worker_gpu=1'],stdout=sub.PIPE,stderr=sub.PIPE)\n",
    "        output, errors = p.communicate()\n",
    "        print (output)\n",
    "        output = str(output)\n",
    "        nums = [int(s) for s in re.findall(r'\\b\\d+\\b', output)]\n",
    "        print(nums[0])\n",
    "        nums = nums[0]\n",
    "#        f5 = open(output_file, \"a+\")\n",
    "        if(nums < 50 ):\n",
    "            f5.write(str(nums)+'\\n'+line2+'\\n'+line3+'\\n')\n",
    "#        f5.close()  \n",
    "            "
   ]
  },
  {
   "cell_type": "code",
   "execution_count": 8,
   "metadata": {},
   "outputs": [],
   "source": [
    "#%%bash\n",
    "#t2t-bleu --translation=/home/apoorva/Documents/bleu-score/data/test1 --reference=/home/apoorva/Documents/bleu-score/data/testr\n"
   ]
  },
  {
   "cell_type": "code",
   "execution_count": null,
   "metadata": {},
   "outputs": [],
   "source": []
  }
 ],
 "metadata": {
  "kernelspec": {
   "display_name": "Python 3",
   "language": "python",
   "name": "python3"
  },
  "language_info": {
   "codemirror_mode": {
    "name": "ipython",
    "version": 3
   },
   "file_extension": ".py",
   "mimetype": "text/x-python",
   "name": "python",
   "nbconvert_exporter": "python",
   "pygments_lexer": "ipython3",
   "version": "3.7.3"
  }
 },
 "nbformat": 4,
 "nbformat_minor": 2
}
