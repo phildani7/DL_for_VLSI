{
 "cells": [
  {
   "cell_type": "code",
   "execution_count": 1,
   "metadata": {
    "scrolled": true
   },
   "outputs": [
    {
     "name": "stderr",
     "output_type": "stream",
     "text": [
      "Using TensorFlow backend.\n",
      "/home/phil/anaconda3/envs/shaily/lib/python3.6/site-packages/tensorflow/python/framework/dtypes.py:523: FutureWarning: Passing (type, 1) or '1type' as a synonym of type is deprecated; in a future version of numpy, it will be understood as (type, (1,)) / '(1,)type'.\n",
      "  _np_qint8 = np.dtype([(\"qint8\", np.int8, 1)])\n",
      "/home/phil/anaconda3/envs/shaily/lib/python3.6/site-packages/tensorflow/python/framework/dtypes.py:524: FutureWarning: Passing (type, 1) or '1type' as a synonym of type is deprecated; in a future version of numpy, it will be understood as (type, (1,)) / '(1,)type'.\n",
      "  _np_quint8 = np.dtype([(\"quint8\", np.uint8, 1)])\n",
      "/home/phil/anaconda3/envs/shaily/lib/python3.6/site-packages/tensorflow/python/framework/dtypes.py:525: FutureWarning: Passing (type, 1) or '1type' as a synonym of type is deprecated; in a future version of numpy, it will be understood as (type, (1,)) / '(1,)type'.\n",
      "  _np_qint16 = np.dtype([(\"qint16\", np.int16, 1)])\n",
      "/home/phil/anaconda3/envs/shaily/lib/python3.6/site-packages/tensorflow/python/framework/dtypes.py:526: FutureWarning: Passing (type, 1) or '1type' as a synonym of type is deprecated; in a future version of numpy, it will be understood as (type, (1,)) / '(1,)type'.\n",
      "  _np_quint16 = np.dtype([(\"quint16\", np.uint16, 1)])\n",
      "/home/phil/anaconda3/envs/shaily/lib/python3.6/site-packages/tensorflow/python/framework/dtypes.py:527: FutureWarning: Passing (type, 1) or '1type' as a synonym of type is deprecated; in a future version of numpy, it will be understood as (type, (1,)) / '(1,)type'.\n",
      "  _np_qint32 = np.dtype([(\"qint32\", np.int32, 1)])\n",
      "/home/phil/anaconda3/envs/shaily/lib/python3.6/site-packages/tensorflow/python/framework/dtypes.py:532: FutureWarning: Passing (type, 1) or '1type' as a synonym of type is deprecated; in a future version of numpy, it will be understood as (type, (1,)) / '(1,)type'.\n",
      "  np_resource = np.dtype([(\"resource\", np.ubyte, 1)])\n"
     ]
    }
   ],
   "source": [
    "import keras\n",
    "from keras.datasets import mnist\n",
    "from keras.models import Sequential\n",
    "from keras.layers import Dense, Dropout, Activation, BatchNormalization\n",
    "from keras.optimizers import SGD, Adam, RMSprop\n",
    "from keras.callbacks import LearningRateScheduler\n",
    "from keras.utils import np_utils\n",
    "\n",
    "\n",
    "from keras.models import load_model\n",
    "\n"
   ]
  },
  {
   "cell_type": "code",
   "execution_count": 11,
   "metadata": {},
   "outputs": [],
   "source": [
    "import numpy as np"
   ]
  },
  {
   "cell_type": "code",
   "execution_count": 4,
   "metadata": {},
   "outputs": [],
   "source": [
    "x=[]\n",
    "y=[]\n",
    "for i in range(0,100):\n",
    "    if(i<50):\n",
    "        y.append(0)\n",
    "    else:\n",
    "        y.append(1)\n",
    "    x.append(i)"
   ]
  },
  {
   "cell_type": "code",
   "execution_count": 9,
   "metadata": {},
   "outputs": [
    {
     "name": "stdout",
     "output_type": "stream",
     "text": [
      "[0, 1, 2, 3, 4, 5, 6, 7, 8, 9, 10, 11, 12, 13, 14, 15, 16, 17, 18, 19, 20, 21, 22, 23, 24, 25, 26, 27, 28, 29, 30, 31, 32, 33, 34, 35, 36, 37, 38, 39, 40, 41, 42, 43, 44, 45, 46, 47, 48, 49, 50, 51, 52, 53, 54, 55, 56, 57, 58, 59, 60, 61, 62, 63, 64, 65, 66, 67, 68, 69, 70, 71, 72, 73, 74, 75, 76, 77, 78, 79, 80, 81, 82, 83, 84, 85, 86, 87, 88, 89, 90, 91, 92, 93, 94, 95, 96, 97, 98, 99]\n",
      "[0, 0, 0, 0, 0, 0, 0, 0, 0, 0, 0, 0, 0, 0, 0, 0, 0, 0, 0, 0, 0, 0, 0, 0, 0, 0, 0, 0, 0, 0, 0, 0, 0, 0, 0, 0, 0, 0, 0, 0, 0, 0, 0, 0, 0, 0, 0, 0, 0, 0, 1, 1, 1, 1, 1, 1, 1, 1, 1, 1, 1, 1, 1, 1, 1, 1, 1, 1, 1, 1, 1, 1, 1, 1, 1, 1, 1, 1, 1, 1, 1, 1, 1, 1, 1, 1, 1, 1, 1, 1, 1, 1, 1, 1, 1, 1, 1, 1, 1, 1]\n"
     ]
    }
   ],
   "source": [
    "print(x)\n",
    "print(y)"
   ]
  },
  {
   "cell_type": "code",
   "execution_count": 12,
   "metadata": {},
   "outputs": [],
   "source": [
    "x=np.array(x)\n",
    "y=np.array(y)"
   ]
  },
  {
   "cell_type": "code",
   "execution_count": 13,
   "metadata": {},
   "outputs": [],
   "source": [
    "x=x.astype(np.float)\n",
    "y=y.astype(np.float)"
   ]
  },
  {
   "cell_type": "code",
   "execution_count": 20,
   "metadata": {},
   "outputs": [],
   "source": [
    "x /=99"
   ]
  },
  {
   "cell_type": "code",
   "execution_count": 14,
   "metadata": {},
   "outputs": [],
   "source": [
    "model = Sequential()\n",
    "model.add(Dense(20,input_shape=(1,)))\n",
    "model.add(Dense(1,activation='sigmoid'))"
   ]
  },
  {
   "cell_type": "code",
   "execution_count": 15,
   "metadata": {},
   "outputs": [
    {
     "name": "stdout",
     "output_type": "stream",
     "text": [
      "_________________________________________________________________\n",
      "Layer (type)                 Output Shape              Param #   \n",
      "=================================================================\n",
      "dense_1 (Dense)              (None, 20)                40        \n",
      "_________________________________________________________________\n",
      "dense_2 (Dense)              (None, 1)                 21        \n",
      "=================================================================\n",
      "Total params: 61\n",
      "Trainable params: 61\n",
      "Non-trainable params: 0\n",
      "_________________________________________________________________\n"
     ]
    }
   ],
   "source": [
    "model.summary()"
   ]
  },
  {
   "cell_type": "code",
   "execution_count": 18,
   "metadata": {},
   "outputs": [],
   "source": [
    "model.compile(loss='mse', optimizer=SGD(lr=1), metrics=['accuracy'])"
   ]
  },
  {
   "cell_type": "code",
   "execution_count": 23,
   "metadata": {},
   "outputs": [
    {
     "name": "stdout",
     "output_type": "stream",
     "text": [
      "Train on 80 samples, validate on 20 samples\n",
      "Epoch 1/20\n",
      "80/80 [==============================] - 0s 118us/step - loss: 0.0292 - acc: 0.9750 - val_loss: 4.9149e-08 - val_acc: 1.0000\n",
      "Epoch 2/20\n",
      "80/80 [==============================] - 0s 121us/step - loss: 0.0233 - acc: 0.9750 - val_loss: 2.0557e-08 - val_acc: 1.0000\n",
      "Epoch 3/20\n",
      "80/80 [==============================] - 0s 110us/step - loss: 0.0223 - acc: 0.9875 - val_loss: 7.5755e-08 - val_acc: 1.0000\n",
      "Epoch 4/20\n",
      "80/80 [==============================] - 0s 111us/step - loss: 0.0240 - acc: 0.9875 - val_loss: 2.6774e-08 - val_acc: 1.0000\n",
      "Epoch 5/20\n",
      "80/80 [==============================] - 0s 103us/step - loss: 0.0251 - acc: 0.9750 - val_loss: 7.9370e-09 - val_acc: 1.0000\n",
      "Epoch 6/20\n",
      "80/80 [==============================] - 0s 110us/step - loss: 0.0225 - acc: 0.9875 - val_loss: 6.0117e-09 - val_acc: 1.0000\n",
      "Epoch 7/20\n",
      "80/80 [==============================] - 0s 111us/step - loss: 0.0448 - acc: 0.9250 - val_loss: 4.0738e-09 - val_acc: 1.0000\n",
      "Epoch 8/20\n",
      "80/80 [==============================] - 0s 96us/step - loss: 0.0254 - acc: 0.9875 - val_loss: 2.3949e-08 - val_acc: 1.0000\n",
      "Epoch 9/20\n",
      "80/80 [==============================] - 0s 115us/step - loss: 0.0280 - acc: 0.9625 - val_loss: 3.0188e-08 - val_acc: 1.0000\n",
      "Epoch 10/20\n",
      "80/80 [==============================] - 0s 106us/step - loss: 0.0274 - acc: 0.9500 - val_loss: 1.2098e-09 - val_acc: 1.0000\n",
      "Epoch 11/20\n",
      "80/80 [==============================] - 0s 105us/step - loss: 0.0216 - acc: 1.0000 - val_loss: 7.1051e-09 - val_acc: 1.0000\n",
      "Epoch 12/20\n",
      "80/80 [==============================] - 0s 116us/step - loss: 0.0268 - acc: 0.9625 - val_loss: 1.3280e-08 - val_acc: 1.0000\n",
      "Epoch 13/20\n",
      "80/80 [==============================] - 0s 105us/step - loss: 0.0236 - acc: 0.9750 - val_loss: 2.4841e-09 - val_acc: 1.0000\n",
      "Epoch 14/20\n",
      "80/80 [==============================] - 0s 112us/step - loss: 0.0209 - acc: 0.9750 - val_loss: 3.9187e-08 - val_acc: 1.0000\n",
      "Epoch 15/20\n",
      "80/80 [==============================] - 0s 112us/step - loss: 0.0329 - acc: 0.9625 - val_loss: 2.6249e-08 - val_acc: 1.0000\n",
      "Epoch 16/20\n",
      "80/80 [==============================] - 0s 113us/step - loss: 0.0185 - acc: 0.9750 - val_loss: 3.7800e-08 - val_acc: 1.0000\n",
      "Epoch 17/20\n",
      "80/80 [==============================] - 0s 113us/step - loss: 0.0189 - acc: 0.9750 - val_loss: 2.0032e-09 - val_acc: 1.0000\n",
      "Epoch 18/20\n",
      "80/80 [==============================] - 0s 107us/step - loss: 0.0180 - acc: 0.9875 - val_loss: 2.9640e-09 - val_acc: 1.0000\n",
      "Epoch 19/20\n",
      "80/80 [==============================] - 0s 99us/step - loss: 0.0378 - acc: 0.9375 - val_loss: 4.5786e-09 - val_acc: 1.0000\n",
      "Epoch 20/20\n",
      "80/80 [==============================] - 0s 103us/step - loss: 0.0207 - acc: 1.0000 - val_loss: 2.4190e-08 - val_acc: 1.0000\n"
     ]
    },
    {
     "data": {
      "text/plain": [
       "<keras.callbacks.History at 0x7f079ffdac18>"
      ]
     },
     "execution_count": 23,
     "metadata": {},
     "output_type": "execute_result"
    }
   ],
   "source": [
    "model.fit(x, y, batch_size=10, epochs=20, verbose=1, validation_split=0.2)"
   ]
  },
  {
   "cell_type": "code",
   "execution_count": 26,
   "metadata": {},
   "outputs": [],
   "source": [
    "test=[1,56,78,23]\n",
    "test=np.array(test)\n",
    "test=test.astype(np.float)\n",
    "test /= 99"
   ]
  },
  {
   "cell_type": "code",
   "execution_count": 28,
   "metadata": {},
   "outputs": [],
   "source": [
    "out=model.predict(test)"
   ]
  },
  {
   "cell_type": "code",
   "execution_count": 30,
   "metadata": {},
   "outputs": [],
   "source": [
    "out=np.round(out)"
   ]
  },
  {
   "cell_type": "code",
   "execution_count": 31,
   "metadata": {},
   "outputs": [
    {
     "data": {
      "text/plain": [
       "array([[0.],\n",
       "       [1.],\n",
       "       [1.],\n",
       "       [0.]], dtype=float32)"
      ]
     },
     "execution_count": 31,
     "metadata": {},
     "output_type": "execute_result"
    }
   ],
   "source": [
    "out"
   ]
  },
  {
   "cell_type": "code",
   "execution_count": null,
   "metadata": {},
   "outputs": [],
   "source": []
  }
 ],
 "metadata": {
  "kernelspec": {
   "display_name": "Python 3",
   "language": "python",
   "name": "python3"
  },
  "language_info": {
   "codemirror_mode": {
    "name": "ipython",
    "version": 3
   },
   "file_extension": ".py",
   "mimetype": "text/x-python",
   "name": "python",
   "nbconvert_exporter": "python",
   "pygments_lexer": "ipython3",
   "version": "3.6.8"
  }
 },
 "nbformat": 4,
 "nbformat_minor": 2
}
